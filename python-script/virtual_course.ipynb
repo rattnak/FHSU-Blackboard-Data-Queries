{
 "cells": [
  {
   "cell_type": "code",
   "execution_count": 4,
   "id": "200d672b",
   "metadata": {},
   "outputs": [
    {
     "name": "stdout",
     "output_type": "stream",
     "text": [
      "<class 'pandas.core.frame.DataFrame'>\n",
      "Index: 454 entries, 0 to 514\n",
      "Data columns (total 14 columns):\n",
      " #   Column                           Non-Null Count  Dtype \n",
      "---  ------                           --------------  ----- \n",
      " 0   COURSE_ID                        454 non-null    int64 \n",
      " 1   COURSE_NAME                      454 non-null    object\n",
      " 2   DESIGN_MODE                      454 non-null    object\n",
      " 3   START_DATE                       454 non-null    object\n",
      " 4   ASSIGNMENT_NAME                  454 non-null    object\n",
      " 5   EARLIEST_DUE_TIME                221 non-null    object\n",
      " 6   TERM                             454 non-null    object\n",
      " 7   INSTRUCTOR_COUNT                 454 non-null    int64 \n",
      " 8   INSTRUCTORS                      454 non-null    object\n",
      " 9   INSTRUCTOR_EMAILS                454 non-null    object\n",
      " 10  INSTITUTIONAL_HIERARCHY_LEVEL_1  454 non-null    object\n",
      " 11  INSTITUTIONAL_HIERARCHY_LEVEL_2  454 non-null    object\n",
      " 12  INSTITUTIONAL_HIERARCHY_LEVEL_3  454 non-null    object\n",
      " 13  INSTITUTIONAL_HIERARCHY_LEVEL_4  454 non-null    object\n",
      "dtypes: int64(2), object(12)\n",
      "memory usage: 53.2+ KB\n"
     ]
    }
   ],
   "source": [
    "import pandas as pd\n",
    "import re\n",
    "\n",
    "# Load your CSV file\n",
    "df = pd.read_csv('/Users/chanrattnakmong/Desktop/TILT/TILT_Projects/FHSU-Blackboard-Data-Queries/python-script/College-of-Arts.csv')  # Update with your actual file name\n",
    "\n",
    "# Assume course names are in a column called 'course_name'\n",
    "pattern = r'_V[A-Z]_'\n",
    "\n",
    "# Filter rows that match the pattern\n",
    "filtered_df = df[df['COURSE_NAME'].str.contains(pattern, regex=True)]\n",
    "\n",
    "# Optional: Save the filtered results to a new CSV\n",
    "filtered_df.to_csv('final-College-of-Arts.csv', index=False)\n",
    "\n",
    "# Show result\n",
    "filtered_df.info()"
   ]
  },
  {
   "cell_type": "code",
   "execution_count": null,
   "id": "61fc32eb",
   "metadata": {},
   "outputs": [],
   "source": []
  }
 ],
 "metadata": {
  "kernelspec": {
   "display_name": "Python 3",
   "language": "python",
   "name": "python3"
  },
  "language_info": {
   "codemirror_mode": {
    "name": "ipython",
    "version": 3
   },
   "file_extension": ".py",
   "mimetype": "text/x-python",
   "name": "python",
   "nbconvert_exporter": "python",
   "pygments_lexer": "ipython3",
   "version": "3.10.6"
  }
 },
 "nbformat": 4,
 "nbformat_minor": 5
}
